{
 "cells": [
  {
   "cell_type": "code",
   "execution_count": 2,
   "metadata": {},
   "outputs": [],
   "source": [
    "from __future__ import division\n",
    "\n",
    "import socket\n",
    "import numpy as np\n",
    "from matplotlib import pyplot as plt\n",
    "from matplotlib import patches as patches\n",
    "import pandas as pd\n",
    "import pdb\n",
    "import pickle"
   ]
  },
  {
   "cell_type": "code",
   "execution_count": 3,
   "metadata": {},
   "outputs": [],
   "source": [
    "\n",
    "shape_names=[\"cuboid\",\"cylinder\",\"handle with bristles\",\"high convexity\",\"long narrow rectangular\",\"medium convexity with handle\",\"rectangular thin with legs\",\"rectangular thin with legs and drawers\",\"small thick rectangular\",\"thin rectangular\"]"
   ]
  },
  {
   "cell_type": "code",
   "execution_count": 4,
   "metadata": {},
   "outputs": [
    {
     "name": "stdout",
     "output_type": "stream",
     "text": [
      "(10, 10)\n"
     ]
    }
   ],
   "source": [
    "shape_data=pd.read_csv(\"/home/hasan/Documents/BitRepos/oroc_2.0/data/shape_data.csv\").values\n",
    "shape_data=shape_data[:,1:]\n",
    "print(shape_data.shape)\n"
   ]
  },
  {
   "cell_type": "code",
   "execution_count": 53,
   "metadata": {},
   "outputs": [],
   "source": [
    "\n",
    "# Some initializations\n",
    "network_dimensions = np.array([5, 5])\n",
    "n_iterations = 10\n",
    "init_learning_rate = 0.01\n",
    "normalise_data = True\n"
   ]
  },
  {
   "cell_type": "code",
   "execution_count": 54,
   "metadata": {},
   "outputs": [
    {
     "name": "stdout",
     "output_type": "stream",
     "text": [
      "10\n"
     ]
    }
   ],
   "source": [
    "\n",
    "# if True, assume all data on common scale\n",
    "# if False, normalise to [0 1] range along each column\n",
    "normalise_by_column = False\n",
    "\n",
    "# establish variables based on data\n",
    "m = shape_data.shape[0]\n",
    "n = shape_data.shape[1]\n",
    "print(m)"
   ]
  },
  {
   "cell_type": "code",
   "execution_count": null,
   "metadata": {},
   "outputs": [],
   "source": []
  },
  {
   "cell_type": "code",
   "execution_count": 55,
   "metadata": {},
   "outputs": [
    {
     "name": "stdout",
     "output_type": "stream",
     "text": [
      "2.5 10.913566679372915\n"
     ]
    }
   ],
   "source": [
    "\n",
    "# initial neighbourhood radius\n",
    "init_radius = max(network_dimensions[0], network_dimensions[1]) / 2\n",
    "# radius decay parameter\n",
    "time_constant = n_iterations / np.log(init_radius)\n",
    "\n",
    "data = shape_data\n",
    "print(init_radius, time_constant)"
   ]
  },
  {
   "cell_type": "code",
   "execution_count": null,
   "metadata": {},
   "outputs": [],
   "source": []
  },
  {
   "cell_type": "code",
   "execution_count": 56,
   "metadata": {},
   "outputs": [],
   "source": [
    "# check if data needs to be normalised\n",
    "if normalise_data:\n",
    "    if normalise_by_column:\n",
    "        # normalise along each column\n",
    "        col_maxes = raw_data.max(axis=0)\n",
    "        data = shape_data / col_maxes[np.newaxis, :]\n",
    "    else:\n",
    "        # normalise entire dataset\n",
    "        data = shape_data / data.max()"
   ]
  },
  {
   "cell_type": "code",
   "execution_count": 57,
   "metadata": {},
   "outputs": [],
   "source": [
    "\n",
    "#serialize data\n",
    "pickle.dump(data, open(\"shape_data.p\", \"wb\"))"
   ]
  },
  {
   "cell_type": "code",
   "execution_count": 58,
   "metadata": {},
   "outputs": [
    {
     "name": "stdout",
     "output_type": "stream",
     "text": [
      "[[[0.33877396 0.62501607 0.10251787 0.68594878 0.47143449 0.34207053\n",
      "   0.58322057 0.79447186 0.22267809 0.49064654]\n",
      "  [0.70073984 0.64673307 0.05011367 0.29322847 0.88640964 0.92124162\n",
      "   0.57436467 0.82163318 0.93810863 0.05148333]\n",
      "  [0.2219329  0.00789112 0.64931268 0.56814151 0.54177264 0.86466827\n",
      "   0.1626175  0.97848469 0.46983433 0.96390081]\n",
      "  [0.08865803 0.67646186 0.89579111 0.94316381 0.5944387  0.45231804\n",
      "   0.61882779 0.093668   0.86966456 0.1769142 ]\n",
      "  [0.02450241 0.28168051 0.57137428 0.12121709 0.6771727  0.71148189\n",
      "   0.46322956 0.81381903 0.76400822 0.43794495]]\n",
      "\n",
      " [[0.77835908 0.52124963 0.13905076 0.51749855 0.62303285 0.55560051\n",
      "   0.68331051 0.24430258 0.72877631 0.27931099]\n",
      "  [0.45277249 0.21489886 0.73271829 0.06588231 0.16327448 0.62492395\n",
      "   0.39524936 0.61565948 0.70553894 0.67271278]\n",
      "  [0.3175911  0.01371093 0.05643814 0.99593402 0.34626615 0.22386655\n",
      "   0.50648489 0.68082506 0.34889946 0.25920927]\n",
      "  [0.17403588 0.66410824 0.75675143 0.60993617 0.38883812 0.66271892\n",
      "   0.39387127 0.72396637 0.78380122 0.330375  ]\n",
      "  [0.11150709 0.8286738  0.87181688 0.31392202 0.19673684 0.48343404\n",
      "   0.63090761 0.3131798  0.30795744 0.19935103]]\n",
      "\n",
      " [[0.89665079 0.64228813 0.47117377 0.39870586 0.87165968 0.92757176\n",
      "   0.41668477 0.65469312 0.41276575 0.23448827]\n",
      "  [0.6954545  0.96751378 0.79037218 0.77324337 0.37064279 0.34523974\n",
      "   0.08808318 0.84216594 0.95499332 0.36248063]\n",
      "  [0.64609756 0.05966653 0.36493415 0.75924663 0.40152405 0.45811465\n",
      "   0.72618386 0.14761567 0.52410783 0.04152185]\n",
      "  [0.87587939 0.40404118 0.37008039 0.74395109 0.40578774 0.17450916\n",
      "   0.07596869 0.62389479 0.85664543 0.71916773]\n",
      "  [0.79102286 0.8840346  0.10438477 0.97823607 0.72548532 0.60686872\n",
      "   0.7274377  0.3269724  0.76191427 0.2052527 ]]\n",
      "\n",
      " [[0.8000072  0.21082811 0.16931689 0.26813503 0.32148352 0.81860914\n",
      "   0.74890258 0.56730178 0.96374946 0.22133928]\n",
      "  [0.95729938 0.45427229 0.53971187 0.19623201 0.89441401 0.27836095\n",
      "   0.30938191 0.77630235 0.26861389 0.56458433]\n",
      "  [0.88370619 0.83464063 0.92919953 0.95520998 0.82937041 0.64380011\n",
      "   0.27088391 0.27548727 0.27984598 0.32105848]\n",
      "  [0.39068747 0.68019587 0.86756926 0.77009844 0.097528   0.4596103\n",
      "   0.57313478 0.54635699 0.61486727 0.01097007]\n",
      "  [0.56219409 0.92963753 0.61259554 0.46507086 0.04479598 0.79838422\n",
      "   0.3412513  0.85466193 0.51963496 0.26578992]]\n",
      "\n",
      " [[0.93835579 0.79058544 0.18367429 0.65226031 0.08885381 0.05132285\n",
      "   0.54096561 0.34543359 0.26158034 0.15605394]\n",
      "  [0.36183647 0.09331324 0.80970807 0.99518864 0.23700552 0.09573331\n",
      "   0.07515732 0.32643107 0.80274529 0.21837172]\n",
      "  [0.34098426 0.83175037 0.59093474 0.98892739 0.33841577 0.47688689\n",
      "   0.13607256 0.12623988 0.86563497 0.69934779]\n",
      "  [0.53369768 0.08048425 0.07978575 0.59165963 0.68465246 0.90339598\n",
      "   0.56270396 0.87962551 0.59382907 0.85713647]\n",
      "  [0.88032477 0.42628682 0.15851551 0.59497711 0.9852865  0.37736136\n",
      "   0.61573035 0.62987978 0.98145455 0.27698787]]]\n"
     ]
    }
   ],
   "source": [
    "# setup random weights between 0 and 1\n",
    "# weight matrix needs to be one m-dimensional vector for each neuron in the SOM\n",
    "net = np.random.random((network_dimensions[0], network_dimensions[1], m))\n",
    "print(net)"
   ]
  },
  {
   "cell_type": "code",
   "execution_count": 59,
   "metadata": {},
   "outputs": [],
   "source": [
    "def find_bmu(t, net, m):\n",
    "    \"\"\"\n",
    "        Find the best matching unit for a given vector, t, in the SOM\n",
    "        Returns: a (bmu, bmu_idx) tuple where bmu is the high-dimensional BMU\n",
    "                 and bmu_idx is the index of this vector in the SOM\n",
    "    \"\"\"\n",
    "    bmu_idx = np.array([0, 0])\n",
    "    # set the initial minimum distance to a huge number\n",
    "    min_dist = np.iinfo(np.int).max    \n",
    "    # calculate the high-dimensional distance between each neuron and the input\n",
    "    for x in range(net.shape[0]):\n",
    "        for y in range(net.shape[1]):\n",
    "            w = net[x, y, :].reshape(m, 1)\n",
    "            # don't bother with actual Euclidean distance, to avoid expensive sqrt operation\n",
    "            sq_dist = np.sum((w - t) ** 2)\n",
    "            if sq_dist < min_dist:\n",
    "                min_dist = sq_dist\n",
    "                bmu_idx = np.array([x, y])\n",
    "    # get vector corresponding to bmu_idx\n",
    "    bmu = net[bmu_idx[0], bmu_idx[1], :].reshape(m, 1)\n",
    "    # return the (bmu, bmu_idx) tuple\n",
    "    return (bmu, bmu_idx)\n"
   ]
  },
  {
   "cell_type": "code",
   "execution_count": 60,
   "metadata": {},
   "outputs": [],
   "source": [
    "\n",
    "def decay_radius(initial_radius, i, time_constant):\n",
    "    return initial_radius * np.exp(-i / time_constant)\n",
    "\n",
    "def decay_learning_rate(initial_learning_rate, i, n_iterations):\n",
    "    return initial_learning_rate * np.exp(-i / n_iterations)\n",
    "\n",
    "def calculate_influence(distance, radius):\n",
    "    return np.exp(-distance / (2* (radius**2)))\n"
   ]
  },
  {
   "cell_type": "code",
   "execution_count": 65,
   "metadata": {},
   "outputs": [],
   "source": [
    "def runMain():\n",
    "    \n",
    "    \n",
    "    for i in range(n_iterations):\n",
    "        \n",
    "        \n",
    "    \n",
    "    # select a training example at random\n",
    "        t = data[ np.random.randint(0, n),:].reshape(np.array([m, 1]))\n",
    "    \n",
    "    # find its Best Matching Unit\n",
    "        bmu, bmu_idx = find_bmu(t, net, m)\n",
    "    \n",
    "    # decay the SOM parameters\n",
    "        r = decay_radius(init_radius, i, time_constant)\n",
    "        l = decay_learning_rate(init_learning_rate, i, n_iterations)\n",
    "    \n",
    "        print(\"learning rate\", l)\n",
    "    # now we know the BMU, update its weight vector to move closer to input\n",
    "    # and move its neighbours in 2-D space closer\n",
    "    # by a factor proportional to their 2-D distance from the BMU\n",
    "        for x in range(net.shape[0]):\n",
    "            for y in range(net.shape[1]):\n",
    "                w = net[x, y, :].reshape(m, 1)\n",
    "\n",
    "            # get the 2-D distance (again, not the actual Euclidean distance)\n",
    "                w_dist = np.sum((np.array([x, y]) - bmu_idx) ** 2)\n",
    "                #print(\"20D distance: \",w_dist)\n",
    "            # if the distance is within the current neighbourhood radius\n",
    "                if w_dist <= r**2:\n",
    "                # calculate the degree of influence (based on the 2-D distance)\n",
    "                    influence = calculate_influence(w_dist, r)\n",
    "                # now update the neuron's weight using the formula:\n",
    "                # new w = old w + (learning rate * influence * delta)\n",
    "                # where delta = input vector (t) - old w\n",
    "                    new_w = w + (l * influence * (t - w))\n",
    "                # commit the new weight\n",
    "                    net[x, y, :] = new_w.reshape(1, 10)\n",
    "                    #print(net)\n",
    "\n",
    "                \n",
    "    \n",
    "        if(i==10):\n",
    "            print(\"Iteration:\",i)\n",
    "            saveList()\n",
    "        elif(i==50):\n",
    "            print(\"Iteration:\", i)\n",
    "            saveList()\n",
    "        elif(i==100):\n",
    "            print(\"Iteration:\",i)\n",
    "            saveList()\n",
    "        elif(i==150):\n",
    "            print(\"Iteration:\", i)\n",
    "            saveList()\n",
    "        elif(i==200):\n",
    "            print(\"Iteration:\", i)\n",
    "            saveList()\n",
    "        elif(i==500):\n",
    "            print(\"Iteration:\", i)\n",
    "            saveList()\n",
    "        elif(i==1000):\n",
    "            print(\"Iteration:\", i)\n",
    "            saveList()\n",
    "        elif(i==5000):\n",
    "            print(\"Iteration:\", i)\n",
    "            saveList()\n",
    "        elif(i==10000):\n",
    "            print(\"Iteration:\", i)\n",
    "            saveList()\n",
    "        elif(i==15000):\n",
    "            print(\"Iteration:\", i)\n",
    "            saveList()\n",
    "        elif(i==19999):\n",
    "            print(\"Iteration:\", i)\n",
    "            saveList()\n",
    "        \n",
    "   \n",
    "        \n",
    "            # Dictionary with key - index in the weight matrix, Value - material\n",
    "# Ex - {(0,3): 'Adhesive', (9,4): 'Brick',...}\n",
    "\n"
   ]
  },
  {
   "cell_type": "code",
   "execution_count": 66,
   "metadata": {},
   "outputs": [],
   "source": [
    "# ---GRAPHICAL VISUALIZATIONS ---\n",
    "def visualization(list1,list2):\n",
    "    print(\"Graph for 5*5 size SOM\")\n",
    "    f = plt.figure(figsize=(15,10))\n",
    "    ax = f.subplots()\n",
    "    ax.scatter(list1, list2)\n",
    "    for i, txt in enumerate(shape_names):\n",
    "        ax.annotate(txt, (list1[i], list2[i]), size=20)"
   ]
  },
  {
   "cell_type": "code",
   "execution_count": null,
   "metadata": {},
   "outputs": [],
   "source": []
  },
  {
   "cell_type": "code",
   "execution_count": null,
   "metadata": {},
   "outputs": [],
   "source": []
  },
  {
   "cell_type": "code",
   "execution_count": 67,
   "metadata": {},
   "outputs": [],
   "source": [
    "def saveList():\n",
    "    \n",
    "    \n",
    "    # Dictionary with key - index in the weight matrix, Value - material\n",
    "# Ex - {(0,3): 'Adhesive', (9,4): 'Brick',...}\n",
    "    shape_idx = {}\n",
    "    group = np.zeros(10)\n",
    "# List of x coordinate of index\n",
    "    list1 = []\n",
    "# List of y coordinate of index\n",
    "    list2 =[]\n",
    "    for i in range(10):\n",
    "        \n",
    "            \n",
    "            \n",
    "        t = data[i,:].reshape(np.array([m, 1]))\n",
    "        bmu, bmu_idx = find_bmu(t, net, m)\n",
    "        bmu_idx = tuple(bmu_idx)\n",
    "        if bmu_idx in shape_idx:\n",
    "                     \n",
    "            shape_idx[bmu_idx].append(shape_names[i])\n",
    "        else:\n",
    "            tempList = []\n",
    "            tempList.append(shape_names[i])\n",
    "            shape_idx[bmu_idx] = tempList\n",
    "            print(i, shape_names[i], bmu_idx)\n",
    "        group[i]=bmu_idx[0]\n",
    "        list1.append(bmu_idx[0])\n",
    "        list2.append(bmu_idx[1])\n",
    "    visualization(list1,list2)\n",
    "    "
   ]
  },
  {
   "cell_type": "code",
   "execution_count": 68,
   "metadata": {},
   "outputs": [
    {
     "name": "stdout",
     "output_type": "stream",
     "text": [
      "learning rate 0.01\n",
      "learning rate 0.009048374180359595\n",
      "learning rate 0.008187307530779819\n",
      "learning rate 0.007408182206817179\n",
      "learning rate 0.006703200460356393\n",
      "learning rate 0.006065306597126334\n",
      "learning rate 0.005488116360940264\n",
      "learning rate 0.004965853037914096\n",
      "learning rate 0.004493289641172216\n",
      "learning rate 0.004065696597405992\n"
     ]
    }
   ],
   "source": [
    "runMain()"
   ]
  },
  {
   "cell_type": "code",
   "execution_count": null,
   "metadata": {},
   "outputs": [],
   "source": []
  },
  {
   "cell_type": "code",
   "execution_count": null,
   "metadata": {},
   "outputs": [],
   "source": []
  }
 ],
 "metadata": {
  "kernelspec": {
   "display_name": "Python 3",
   "language": "python",
   "name": "python3"
  },
  "language_info": {
   "codemirror_mode": {
    "name": "ipython",
    "version": 3
   },
   "file_extension": ".py",
   "mimetype": "text/x-python",
   "name": "python",
   "nbconvert_exporter": "python",
   "pygments_lexer": "ipython3",
   "version": "3.6.7"
  }
 },
 "nbformat": 4,
 "nbformat_minor": 2
}
