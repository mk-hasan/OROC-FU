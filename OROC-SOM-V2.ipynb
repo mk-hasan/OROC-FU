{
 "cells": [
  {
   "cell_type": "code",
   "execution_count": 1,
   "metadata": {},
   "outputs": [],
   "source": [
    "from __future__ import division\n",
    "\n",
    "import numpy as np\n",
    "from matplotlib import pyplot as plt\n",
    "from matplotlib import patches as patches\n",
    "import pandas as pd\n",
    "%matplotlib inline\n",
    "import pdb"
   ]
  },
  {
   "cell_type": "code",
   "execution_count": 2,
   "metadata": {},
   "outputs": [
    {
     "name": "stdout",
     "output_type": "stream",
     "text": [
      "(21, 21)\n"
     ]
    }
   ],
   "source": [
    "raw_data=pd.read_csv(\"/home/hasan/files/simdatawdT.csv\").values\n",
    "raw_data=raw_data[:,1:]\n",
    "print(raw_data.shape)"
   ]
  },
  {
   "cell_type": "code",
   "execution_count": 3,
   "metadata": {},
   "outputs": [],
   "source": [
    "network_dimensions = np.array([5, 5])\n",
    "n_iterations = 100\n",
    "init_learning_rate = 0.01\n",
    "\n",
    "normalise_data = True\n",
    "\n",
    "# if True, assume all data on common scale\n",
    "# if False, normalise to [0 1] range along each column\n",
    "normalise_by_column = False"
   ]
  },
  {
   "cell_type": "code",
   "execution_count": 4,
   "metadata": {},
   "outputs": [
    {
     "name": "stdout",
     "output_type": "stream",
     "text": [
      "21\n"
     ]
    }
   ],
   "source": [
    "# establish variables based on data\n",
    "m = raw_data.shape[0]\n",
    "n = raw_data.shape[1]\n",
    "print(m)\n",
    "# initial neighbourhood radius\n",
    "init_radius = max(network_dimensions[0], network_dimensions[1]) / 2\n",
    "# radius decay parameter\n",
    "time_constant = n_iterations / np.log(init_radius)\n",
    "\n",
    "data = raw_data\n",
    "#print(data)\n",
    "# check if data needs to be normalised\n",
    "if normalise_data:\n",
    "    if normalise_by_column:\n",
    "        # normalise along each column\n",
    "        col_maxes = raw_data.max(axis=0)\n",
    "        data = raw_data / col_maxes[np.newaxis, :]\n",
    "    else:\n",
    "        # normalise entire dataset\n",
    "        data = raw_data / data.max()\n",
    "#print(data)"
   ]
  },
  {
   "cell_type": "code",
   "execution_count": 5,
   "metadata": {},
   "outputs": [
    {
     "name": "stdout",
     "output_type": "stream",
     "text": [
      "[[[0.94679923 0.49333142 0.43842692 0.01461416 0.17922219 0.38322576\n",
      "   0.10242344 0.43778575 0.54620553 0.27819466 0.01652513 0.77675443\n",
      "   0.27181993 0.5970479  0.94229044 0.01630098 0.77194746 0.74730693\n",
      "   0.97119079 0.21908855 0.1133605 ]\n",
      "  [0.04537509 0.77910008 0.23985007 0.85837294 0.70426778 0.94712947\n",
      "   0.41659162 0.91247663 0.57682289 0.30287975 0.51866696 0.50638499\n",
      "   0.9803403  0.08616808 0.81346149 0.21495874 0.73151981 0.34893355\n",
      "   0.54387021 0.66181458 0.54151738]\n",
      "  [0.54759471 0.59735998 0.23880782 0.31425952 0.16308209 0.51953737\n",
      "   0.94941457 0.20568444 0.18920646 0.36383272 0.64764211 0.26408497\n",
      "   0.75116523 0.38905743 0.41245593 0.79097316 0.58458949 0.27842119\n",
      "   0.97895524 0.91269857 0.38448963]\n",
      "  [0.47958196 0.87224494 0.97043157 0.06482139 0.92927684 0.69197741\n",
      "   0.46205632 0.18972573 0.11116137 0.95307673 0.84269252 0.55895369\n",
      "   0.48237015 0.06050521 0.58268626 0.53654481 0.46188421 0.24730075\n",
      "   0.8536995  0.42233082 0.42898378]\n",
      "  [0.29223413 0.54771189 0.83855899 0.55282525 0.38985916 0.02040282\n",
      "   0.96931613 0.07966419 0.97333907 0.44099155 0.81271021 0.40111315\n",
      "   0.22580647 0.60789975 0.53518381 0.60741651 0.71431647 0.80663519\n",
      "   0.44569543 0.82582337 0.1921001 ]]\n",
      "\n",
      " [[0.45328713 0.98496054 0.20593997 0.43870628 0.24141644 0.52158132\n",
      "   0.93728098 0.33270744 0.57029484 0.0448811  0.59903999 0.26731573\n",
      "   0.42375386 0.60325372 0.26420113 0.14463811 0.33180959 0.89458201\n",
      "   0.61433739 0.54419142 0.23830529]\n",
      "  [0.53600757 0.02451167 0.28988369 0.04498403 0.15316584 0.57109404\n",
      "   0.4568681  0.67899955 0.74977949 0.50688123 0.79988586 0.55374711\n",
      "   0.59967796 0.28837991 0.13788099 0.58043405 0.47383969 0.1120927\n",
      "   0.87260446 0.14315489 0.72132637]\n",
      "  [0.47283223 0.30934752 0.45544162 0.08765586 0.57371865 0.82588533\n",
      "   0.95601879 0.24272897 0.5233368  0.28167328 0.99503455 0.62311626\n",
      "   0.00573515 0.34089963 0.02875014 0.87654222 0.61840674 0.77420255\n",
      "   0.91511441 0.00189419 0.69343814]\n",
      "  [0.90342457 0.65322274 0.75137608 0.94526761 0.04595092 0.38847642\n",
      "   0.58533974 0.05349524 0.30897688 0.70554329 0.88812868 0.31856642\n",
      "   0.66445108 0.57853003 0.89774001 0.23209837 0.31250258 0.69156052\n",
      "   0.66071441 0.00537467 0.93573021]\n",
      "  [0.33658426 0.73592998 0.19775174 0.30340761 0.23103945 0.29293986\n",
      "   0.79522656 0.37589344 0.77312298 0.67094513 0.56891475 0.65485978\n",
      "   0.56247264 0.5600439  0.25935721 0.71028229 0.55179316 0.99072151\n",
      "   0.34747761 0.29150488 0.63535708]]\n",
      "\n",
      " [[0.31612841 0.21429879 0.84697361 0.47481151 0.80125059 0.82960623\n",
      "   0.99150356 0.09291612 0.52577996 0.71518776 0.08115197 0.80896071\n",
      "   0.91267595 0.51646388 0.09708551 0.64491672 0.49474793 0.25275784\n",
      "   0.95446103 0.18479463 0.56262872]\n",
      "  [0.45201318 0.44360146 0.40724298 0.93361378 0.95122923 0.19482154\n",
      "   0.63813924 0.00855334 0.08862697 0.03980678 0.56295046 0.65042677\n",
      "   0.86854083 0.11437207 0.45306508 0.21197426 0.79231897 0.80644323\n",
      "   0.8254308  0.34695304 0.41537308]\n",
      "  [0.38051289 0.60921452 0.32552406 0.31753039 0.0846823  0.24686165\n",
      "   0.30970344 0.7829552  0.34537098 0.35853308 0.07900516 0.6379371\n",
      "   0.73810586 0.85105116 0.24909051 0.17070038 0.6345364  0.8067908\n",
      "   0.23780031 0.53104196 0.62554535]\n",
      "  [0.10912497 0.95997707 0.64979351 0.60347806 0.16220908 0.49628802\n",
      "   0.4988123  0.49810527 0.88580433 0.32042067 0.13667253 0.87916381\n",
      "   0.03940219 0.82553526 0.95758958 0.9030216  0.1390471  0.55315617\n",
      "   0.18977398 0.63609667 0.91644637]\n",
      "  [0.33611405 0.05643396 0.11693076 0.89052516 0.95120971 0.3471134\n",
      "   0.82566017 0.93515908 0.72460893 0.18133846 0.5016408  0.87466131\n",
      "   0.70724791 0.70601138 0.69579917 0.51061895 0.05280053 0.67162073\n",
      "   0.93684906 0.4485539  0.75757177]]\n",
      "\n",
      " [[0.04587022 0.61342485 0.50634742 0.73602065 0.24300043 0.44985709\n",
      "   0.34212779 0.10431209 0.14722221 0.16567008 0.63789943 0.46719727\n",
      "   0.3501678  0.12489373 0.81172585 0.48830512 0.65174342 0.47410302\n",
      "   0.37413719 0.96615671 0.46661752]\n",
      "  [0.94457372 0.17120466 0.6864407  0.96073024 0.84467044 0.0433258\n",
      "   0.47871364 0.8035155  0.99337066 0.35954457 0.48567016 0.98918677\n",
      "   0.43040615 0.72333848 0.6198911  0.8788712  0.18385692 0.852865\n",
      "   0.95995551 0.32107913 0.71563717]\n",
      "  [0.59147214 0.47739076 0.37116591 0.59165889 0.16135872 0.2549205\n",
      "   0.80530802 0.73375607 0.0106059  0.70220721 0.01053598 0.8458442\n",
      "   0.9003404  0.5006523  0.88741274 0.24712027 0.37924585 0.76555709\n",
      "   0.90497097 0.3629067  0.87304099]\n",
      "  [0.28931794 0.59277569 0.55206709 0.18177673 0.28369174 0.36646222\n",
      "   0.70911721 0.49528698 0.2694228  0.19312062 0.26081717 0.65631938\n",
      "   0.20898417 0.12530863 0.8428738  0.61969883 0.43596191 0.30363287\n",
      "   0.31360071 0.44570814 0.3966914 ]\n",
      "  [0.39235609 0.24435429 0.37491838 0.88311992 0.64766093 0.37606634\n",
      "   0.82740729 0.74624462 0.40282707 0.71401268 0.027121   0.44930163\n",
      "   0.77413573 0.1613393  0.12981433 0.91585587 0.20617761 0.75153806\n",
      "   0.71106885 0.91838851 0.07933901]]\n",
      "\n",
      " [[0.54523929 0.11297482 0.18972463 0.16648657 0.33593677 0.22969113\n",
      "   0.68251522 0.55902529 0.27609655 0.91616767 0.95764066 0.46264245\n",
      "   0.94801939 0.12044505 0.81235762 0.70306993 0.19579088 0.41096416\n",
      "   0.2362026  0.39342015 0.52726971]\n",
      "  [0.50419678 0.84178496 0.43496161 0.91049547 0.33905874 0.62630406\n",
      "   0.08622494 0.78967927 0.72402884 0.0530234  0.08853335 0.90464755\n",
      "   0.20168126 0.64508744 0.60018453 0.44275736 0.59473055 0.62620517\n",
      "   0.36691369 0.74212238 0.37060925]\n",
      "  [0.76632045 0.39261719 0.42916035 0.09506866 0.31997423 0.51569135\n",
      "   0.19142385 0.68393016 0.05803339 0.99410224 0.6881908  0.59040658\n",
      "   0.28364784 0.96179119 0.55173084 0.97941208 0.49169992 0.57519226\n",
      "   0.98563034 0.95635952 0.03037956]\n",
      "  [0.64776619 0.13600917 0.66899134 0.63326829 0.28060005 0.34620447\n",
      "   0.63885501 0.25595877 0.69368469 0.64741109 0.93736048 0.73779085\n",
      "   0.50670898 0.72562931 0.32284303 0.03703838 0.08761234 0.53290589\n",
      "   0.60592518 0.37078097 0.7322585 ]\n",
      "  [0.46764902 0.12547673 0.60526572 0.16063481 0.70244175 0.16170711\n",
      "   0.51452467 0.38461043 0.08362419 0.47920969 0.17202699 0.10560111\n",
      "   0.83841835 0.98390296 0.85658687 0.54876435 0.36418327 0.27389228\n",
      "   0.9525764  0.14102242 0.12276689]]]\n"
     ]
    }
   ],
   "source": [
    "# setup random weights between 0 and 1\n",
    "# weight matrix needs to be one m-dimensional vector for each neuron in the SOM\n",
    "net = np.random.random((network_dimensions[0], network_dimensions[1], m))\n",
    "print(net)"
   ]
  },
  {
   "cell_type": "code",
   "execution_count": 6,
   "metadata": {},
   "outputs": [],
   "source": [
    "\n",
    "def find_bmu(t, net, m):\n",
    "    \"\"\"\n",
    "        Find the best matching unit for a given vector, t, in the SOM\n",
    "        Returns: a (bmu, bmu_idx) tuple where bmu is the high-dimensional BMU\n",
    "                 and bmu_idx is the index of this vector in the SOM\n",
    "    \"\"\"\n",
    "    bmu_idx = np.array([0, 0])\n",
    "    # set the initial minimum distance to a huge number\n",
    "    min_dist = np.iinfo(np.int).max    \n",
    "    # calculate the high-dimensional distance between each neuron and the input\n",
    "    for x in range(net.shape[0]):\n",
    "        for y in range(net.shape[1]):\n",
    "            w = net[x, y, :].reshape(m, 1)\n",
    "            # don't bother with actual Euclidean distance, to avoid expensive sqrt operation\n",
    "            sq_dist = np.sum((w - t) ** 2)\n",
    "            if sq_dist < min_dist:\n",
    "                min_dist = sq_dist\n",
    "                bmu_idx = np.array([x, y])\n",
    "    # get vector corresponding to bmu_idx\n",
    "    bmu = net[bmu_idx[0], bmu_idx[1], :].reshape(m, 1)\n",
    "    # return the (bmu, bmu_idx) tuple\n",
    "    return (bmu, bmu_idx)"
   ]
  },
  {
   "cell_type": "code",
   "execution_count": 7,
   "metadata": {},
   "outputs": [],
   "source": [
    "\n",
    "def decay_radius(initial_radius, i, time_constant):\n",
    "    return initial_radius * np.exp(-i / time_constant)"
   ]
  },
  {
   "cell_type": "code",
   "execution_count": 8,
   "metadata": {},
   "outputs": [],
   "source": [
    "def decay_learning_rate(initial_learning_rate, i, n_iterations):\n",
    "    return initial_learning_rate * np.exp(-i / n_iterations)"
   ]
  },
  {
   "cell_type": "code",
   "execution_count": 9,
   "metadata": {},
   "outputs": [],
   "source": [
    "def calculate_influence(distance, radius):\n",
    "    return np.exp(-distance / (2* (radius**2)))"
   ]
  },
  {
   "cell_type": "code",
   "execution_count": 10,
   "metadata": {},
   "outputs": [],
   "source": [
    "for i in range(n_iterations):\n",
    "    #print('Iteration %d' % i)\n",
    "    \n",
    "    # select a training example at random\n",
    "    t = data[:, np.random.randint(0, n)].reshape(np.array([m, 1]))\n",
    "    #print(\"first t value:\", t);\n",
    "    \n",
    "    # find its Best Matching Unit\n",
    "    bmu, bmu_idx = find_bmu(t, net, m)\n",
    "    #print(\"bmu_index: \",bmu_idx)\n",
    "    \n",
    "    # decay the SOM parameters\n",
    "    r = decay_radius(init_radius, i, time_constant)\n",
    "    l = decay_learning_rate(init_learning_rate, i, n_iterations)\n",
    "    \n",
    "    # now we know the BMU, update its weight vector to move closer to input\n",
    "    # and move its neighbours in 2-D space closer\n",
    "    # by a factor proportional to their 2-D distance from the BMU\n",
    "    for x in range(net.shape[0]):\n",
    "        for y in range(net.shape[1]):\n",
    "            w = net[x, y, :].reshape(m, 1)\n",
    "            \n",
    "            #print(\"net\",net)\n",
    "            #print(\"wwww:\",w)\n",
    "            # get the 2-D distance (again, not the actual Euclidean distance)\n",
    "            w_dist = np.sum((np.array([x, y]) - bmu_idx) ** 2)\n",
    "            # if the distance is within the current neighbourhood radius\n",
    "            if w_dist <= r**2:\n",
    "                # calculate the degree of influence (based on the 2-D distance)\n",
    "                influence = calculate_influence(w_dist, r)\n",
    "                # now update the neuron's weight using the formula:\n",
    "                # new w = old w + (learning rate * influence * delta)\n",
    "                # where delta = input vector (t) - old w\n",
    "                new_w = w + (l * influence * (t - w))\n",
    "                # commit the new weight\n",
    "                net[x, y, :] = new_w.reshape(1, 21)\n",
    "                "
   ]
  },
  {
   "cell_type": "code",
   "execution_count": 11,
   "metadata": {},
   "outputs": [],
   "source": [
    "material_nams=\\\n",
    "[\"Adhesive\",\"Brick\",\"Cardboard\",\"Ceramic\",\"Cloth\",\"Concrete\",\"Cotton\",\"Diamond\",\"Glass\",\"Leather\",\"Marble\",\"Metal\",\"Paper\",\"Plastic\",\"Porcelain\",\"Rubber\",\"Stone\",\"Styrofoam\",\"Wax\",\"Wood\",\"Wool\"]"
   ]
  },
  {
   "cell_type": "code",
   "execution_count": null,
   "metadata": {},
   "outputs": [],
   "source": []
  }
 ],
 "metadata": {
  "kernelspec": {
   "display_name": "Python 3",
   "language": "python",
   "name": "python3"
  },
  "language_info": {
   "codemirror_mode": {
    "name": "ipython",
    "version": 3
   },
   "file_extension": ".py",
   "mimetype": "text/x-python",
   "name": "python",
   "nbconvert_exporter": "python",
   "pygments_lexer": "ipython3",
   "version": "3.7.1"
  }
 },
 "nbformat": 4,
 "nbformat_minor": 2
}
