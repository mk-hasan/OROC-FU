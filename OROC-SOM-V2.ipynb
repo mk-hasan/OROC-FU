{
 "cells": [
  {
   "cell_type": "code",
   "execution_count": 1,
   "metadata": {},
   "outputs": [],
   "source": [
    "from __future__ import division\n",
    "\n",
    "import numpy as np\n",
    "from matplotlib import pyplot as plt\n",
    "from matplotlib import patches as patches\n",
    "import pandas as pd\n",
    "%matplotlib inline\n",
    "import pdb"
   ]
  },
  {
   "cell_type": "code",
   "execution_count": 2,
   "metadata": {},
   "outputs": [
    {
     "name": "stdout",
     "output_type": "stream",
     "text": [
      "(21, 21)\n"
     ]
    }
   ],
   "source": [
    "raw_data=pd.read_csv(\"/home/hasan/files/simdatawdT.csv\").values\n",
    "raw_data=raw_data[:,1:]\n",
    "print(raw_data.shape)"
   ]
  },
  {
   "cell_type": "code",
   "execution_count": 3,
   "metadata": {},
   "outputs": [],
   "source": [
    "network_dimensions = np.array([5, 5])\n",
    "n_iterations = 100\n",
    "init_learning_rate = 0.01\n",
    "\n",
    "normalise_data = True\n",
    "\n",
    "# if True, assume all data on common scale\n",
    "# if False, normalise to [0 1] range along each column\n",
    "normalise_by_column = False"
   ]
  },
  {
   "cell_type": "code",
   "execution_count": 4,
   "metadata": {},
   "outputs": [
    {
     "name": "stdout",
     "output_type": "stream",
     "text": [
      "21\n"
     ]
    }
   ],
   "source": [
    "# establish variables based on data\n",
    "m = raw_data.shape[0]\n",
    "n = raw_data.shape[1]\n",
    "print(m)\n",
    "# initial neighbourhood radius\n",
    "init_radius = max(network_dimensions[0], network_dimensions[1]) / 2\n",
    "# radius decay parameter\n",
    "time_constant = n_iterations / np.log(init_radius)\n",
    "\n",
    "data = raw_data\n",
    "#print(data)\n",
    "# check if data needs to be normalised\n",
    "if normalise_data:\n",
    "    if normalise_by_column:\n",
    "        # normalise along each column\n",
    "        col_maxes = raw_data.max(axis=0)\n",
    "        data = raw_data / col_maxes[np.newaxis, :]\n",
    "    else:\n",
    "        # normalise entire dataset\n",
    "        data = raw_data / data.max()\n",
    "#print(data)"
   ]
  },
  {
   "cell_type": "code",
   "execution_count": 5,
   "metadata": {},
   "outputs": [
    {
     "name": "stdout",
     "output_type": "stream",
     "text": [
      "[[[0.36383675 0.24488414 0.16076485 0.11199806 0.86754123 0.21070683\n",
      "   0.0482992  0.11071834 0.54831729 0.10074019 0.04155451 0.04407962\n",
      "   0.34039081 0.7189615  0.61867576 0.37455686 0.72673651 0.92523542\n",
      "   0.16640545 0.58308479 0.46674457]\n",
      "  [0.98391621 0.26178818 0.39545848 0.86700142 0.26069047 0.97946335\n",
      "   0.75781381 0.57871681 0.82115334 0.22166554 0.45318613 0.79055531\n",
      "   0.63802564 0.77579031 0.23651876 0.68089072 0.60534251 0.35608322\n",
      "   0.16037003 0.04098698 0.88076593]\n",
      "  [0.7631997  0.403208   0.36804373 0.71537129 0.5161624  0.57847017\n",
      "   0.30885872 0.77211194 0.78388986 0.24129995 0.97789622 0.82329785\n",
      "   0.44961909 0.05630367 0.57176235 0.37168175 0.0475949  0.73241662\n",
      "   0.15998214 0.87074825 0.55075039]\n",
      "  [0.04439978 0.53407656 0.2902075  0.39517489 0.80321574 0.89701984\n",
      "   0.4178289  0.54109394 0.37773152 0.6337367  0.90410438 0.69085064\n",
      "   0.89242351 0.47435462 0.90095963 0.68006538 0.98941701 0.2050214\n",
      "   0.09732192 0.48901427 0.39623871]\n",
      "  [0.24451806 0.98900619 0.48195588 0.372973   0.67653268 0.01437327\n",
      "   0.26104302 0.44041355 0.44703263 0.85797939 0.57035407 0.80229128\n",
      "   0.47658621 0.95539616 0.93782648 0.45976154 0.16959079 0.8709531\n",
      "   0.44794736 0.5018856  0.70768489]]\n",
      "\n",
      " [[0.29347223 0.40484205 0.42184348 0.98945495 0.07948298 0.86368492\n",
      "   0.89036196 0.28327517 0.81998279 0.81149425 0.27784626 0.32216587\n",
      "   0.79898337 0.38945283 0.19115303 0.72876628 0.22601167 0.52571998\n",
      "   0.62894176 0.82711689 0.98513987]\n",
      "  [0.30033887 0.22670674 0.24577843 0.79143466 0.6999042  0.35638068\n",
      "   0.11498041 0.44242113 0.17564577 0.65284863 0.33844863 0.18000761\n",
      "   0.85055311 0.13667443 0.30845893 0.97597638 0.55714242 0.37038267\n",
      "   0.30438575 0.83194138 0.47690211]\n",
      "  [0.50410146 0.81402241 0.4107494  0.4719946  0.01743016 0.2523041\n",
      "   0.10269647 0.58309382 0.7449613  0.71289199 0.83560477 0.78588438\n",
      "   0.98679858 0.29602727 0.77402272 0.70688149 0.00929291 0.0932487\n",
      "   0.15790413 0.29752481 0.16624991]\n",
      "  [0.93235235 0.21913487 0.84289491 0.86061795 0.67795773 0.01286883\n",
      "   0.45955816 0.4740259  0.61739689 0.8303259  0.31157141 0.13390697\n",
      "   0.82988838 0.41710986 0.05258935 0.17594767 0.58677494 0.42753954\n",
      "   0.17182747 0.09965398 0.67389574]\n",
      "  [0.95287737 0.02953459 0.30126646 0.68261391 0.60101575 0.44572905\n",
      "   0.43164226 0.3882763  0.58491333 0.3811898  0.70924551 0.0520225\n",
      "   0.09856404 0.0744601  0.54278812 0.19380831 0.04202895 0.53862337\n",
      "   0.46303408 0.76839029 0.80553756]]\n",
      "\n",
      " [[0.43119714 0.39928306 0.21123852 0.23785294 0.25693498 0.79120587\n",
      "   0.85126427 0.62087681 0.34506131 0.05746066 0.56042975 0.68567374\n",
      "   0.78778805 0.81854527 0.25542361 0.76916336 0.81451212 0.96178777\n",
      "   0.52796006 0.66214331 0.46046391]\n",
      "  [0.43437255 0.45590969 0.4140873  0.94530502 0.54471099 0.94539112\n",
      "   0.50832118 0.41919148 0.07458953 0.49807567 0.2005419  0.28464111\n",
      "   0.18422539 0.60729047 0.68217286 0.39801438 0.68442176 0.29470343\n",
      "   0.58411795 0.85850704 0.92830182]\n",
      "  [0.60009979 0.55471822 0.58914358 0.53411857 0.33094692 0.02962667\n",
      "   0.09593794 0.60803047 0.2565938  0.39274879 0.9613358  0.54931069\n",
      "   0.65602184 0.25494727 0.64436604 0.57531853 0.58705524 0.47002656\n",
      "   0.59468214 0.31182764 0.3407835 ]\n",
      "  [0.93691053 0.46856755 0.21953398 0.60530711 0.20078572 0.74858643\n",
      "   0.11410148 0.20680179 0.16805772 0.04224141 0.76491684 0.48028314\n",
      "   0.04528166 0.47540811 0.59989083 0.58717046 0.41332561 0.22343073\n",
      "   0.24868669 0.70614093 0.51620533]\n",
      "  [0.85428149 0.1604582  0.41683705 0.99830058 0.83477529 0.03308902\n",
      "   0.0606872  0.60873339 0.45666344 0.38568523 0.43579166 0.04168726\n",
      "   0.31765773 0.79419104 0.77788183 0.5694979  0.41775455 0.38602953\n",
      "   0.92341211 0.33381796 0.0337354 ]]\n",
      "\n",
      " [[0.54869083 0.32160645 0.50201187 0.51012904 0.71888768 0.4091054\n",
      "   0.34994902 0.74425776 0.7207717  0.77610832 0.99391512 0.25313675\n",
      "   0.15381826 0.43389186 0.79528715 0.72299971 0.85312775 0.96090811\n",
      "   0.84020527 0.59285505 0.79013329]\n",
      "  [0.34792926 0.54519662 0.7182267  0.209437   0.46956725 0.74248579\n",
      "   0.20369106 0.85278445 0.4855692  0.7826832  0.18046319 0.03788554\n",
      "   0.26070735 0.68913844 0.73365021 0.63508891 0.72580625 0.04965042\n",
      "   0.72196669 0.78362237 0.75350242]\n",
      "  [0.37999429 0.19932275 0.30109524 0.74237369 0.8568104  0.45767048\n",
      "   0.6665117  0.27072445 0.57475889 0.46823117 0.55976823 0.46447521\n",
      "   0.98021429 0.2425472  0.0156786  0.10121457 0.29390859 0.59719065\n",
      "   0.90731887 0.47699433 0.76377834]\n",
      "  [0.86090752 0.39630342 0.67035724 0.57131751 0.80333286 0.07088152\n",
      "   0.24151381 0.99813288 0.97573583 0.41518222 0.54079517 0.71883958\n",
      "   0.27380419 0.47070841 0.682436   0.36135635 0.75211758 0.58883301\n",
      "   0.23042114 0.32254902 0.28712184]\n",
      "  [0.77514954 0.24216401 0.26639062 0.86478149 0.24869073 0.62749605\n",
      "   0.56817474 0.05426374 0.44322682 0.43698513 0.88976785 0.2647765\n",
      "   0.87162704 0.69962011 0.81016898 0.07625269 0.71031483 0.47216187\n",
      "   0.78881806 0.2823214  0.16168334]]\n",
      "\n",
      " [[0.84505486 0.27036573 0.49526612 0.08846413 0.66109007 0.40957577\n",
      "   0.75500087 0.27433233 0.14885729 0.75755756 0.40621575 0.5083844\n",
      "   0.15990651 0.49590481 0.38750409 0.9870288  0.24765992 0.29448094\n",
      "   0.17754633 0.9605284  0.85977455]\n",
      "  [0.43929938 0.47188948 0.07127385 0.56262057 0.66941843 0.85583363\n",
      "   0.94457922 0.14087697 0.78388915 0.09019678 0.38872495 0.86435615\n",
      "   0.5777522  0.07364445 0.05985868 0.8164327  0.53220974 0.80159586\n",
      "   0.65699523 0.35061724 0.56320443]\n",
      "  [0.11185308 0.29793368 0.95304917 0.4416812  0.43727647 0.75953635\n",
      "   0.81176657 0.25102883 0.93240347 0.85370894 0.18711625 0.20053732\n",
      "   0.17392198 0.40441383 0.28431539 0.60077361 0.25316953 0.01747082\n",
      "   0.49508403 0.50410047 0.10267527]\n",
      "  [0.38268    0.01713916 0.8599781  0.53840739 0.42867651 0.78153072\n",
      "   0.65961629 0.33969153 0.03879132 0.08398386 0.07107218 0.93477471\n",
      "   0.6923805  0.83655387 0.55888496 0.98884058 0.35527011 0.96294627\n",
      "   0.45414969 0.76032851 0.74120321]\n",
      "  [0.24651979 0.41884468 0.51138771 0.25155502 0.99653398 0.62743393\n",
      "   0.1442502  0.42623835 0.80529928 0.97651113 0.23189021 0.00515161\n",
      "   0.93030168 0.27261913 0.53728791 0.44894788 0.74946871 0.87146864\n",
      "   0.48803326 0.82053606 0.19858927]]]\n"
     ]
    }
   ],
   "source": [
    "# setup random weights between 0 and 1\n",
    "# weight matrix needs to be one m-dimensional vector for each neuron in the SOM\n",
    "net = np.random.random((network_dimensions[0], network_dimensions[1], m))\n",
    "print(net)"
   ]
  },
  {
   "cell_type": "code",
   "execution_count": 6,
   "metadata": {},
   "outputs": [],
   "source": [
    "\n",
    "def find_bmu(t, net, m):\n",
    "    \"\"\"\n",
    "        Find the best matching unit for a given vector, t, in the SOM\n",
    "        Returns: a (bmu, bmu_idx) tuple where bmu is the high-dimensional BMU\n",
    "                 and bmu_idx is the index of this vector in the SOM\n",
    "    \"\"\"\n",
    "    bmu_idx = np.array([0, 0])\n",
    "    # set the initial minimum distance to a huge number\n",
    "    min_dist = np.iinfo(np.int).max    \n",
    "    # calculate the high-dimensional distance between each neuron and the input\n",
    "    for x in range(net.shape[0]):\n",
    "        for y in range(net.shape[1]):\n",
    "            w = net[x, y, :].reshape(m, 1)\n",
    "            # don't bother with actual Euclidean distance, to avoid expensive sqrt operation\n",
    "            sq_dist = np.sum((w - t) ** 2)\n",
    "            if sq_dist < min_dist:\n",
    "                min_dist = sq_dist\n",
    "                bmu_idx = np.array([x, y])\n",
    "    # get vector corresponding to bmu_idx\n",
    "    bmu = net[bmu_idx[0], bmu_idx[1], :].reshape(m, 1)\n",
    "    # return the (bmu, bmu_idx) tuple\n",
    "    return (bmu, bmu_idx)"
   ]
  },
  {
   "cell_type": "code",
   "execution_count": 7,
   "metadata": {},
   "outputs": [],
   "source": [
    "\n",
    "def decay_radius(initial_radius, i, time_constant):\n",
    "    return initial_radius * np.exp(-i / time_constant)"
   ]
  },
  {
   "cell_type": "code",
   "execution_count": 8,
   "metadata": {},
   "outputs": [],
   "source": [
    "def decay_learning_rate(initial_learning_rate, i, n_iterations):\n",
    "    return initial_learning_rate * np.exp(-i / n_iterations)"
   ]
  },
  {
   "cell_type": "code",
   "execution_count": 9,
   "metadata": {},
   "outputs": [],
   "source": [
    "def calculate_influence(distance, radius):\n",
    "    return np.exp(-distance / (2* (radius**2)))"
   ]
  },
  {
   "cell_type": "code",
   "execution_count": 10,
   "metadata": {},
   "outputs": [],
   "source": [
    "for i in range(n_iterations):\n",
    "    #print('Iteration %d' % i)\n",
    "    \n",
    "    # select a training example at random\n",
    "    t = data[:, np.random.randint(0, n)].reshape(np.array([m, 1]))\n",
    "    #print(\"first t value:\", t);\n",
    "    \n",
    "    # find its Best Matching Unit\n",
    "    bmu, bmu_idx = find_bmu(t, net, m)\n",
    "    #print(\"bmu_index: \",bmu_idx)\n",
    "    \n",
    "    # decay the SOM parameters\n",
    "    r = decay_radius(init_radius, i, time_constant)\n",
    "    l = decay_learning_rate(init_learning_rate, i, n_iterations)\n",
    "    \n",
    "    # now we know the BMU, update its weight vector to move closer to input\n",
    "    # and move its neighbours in 2-D space closer\n",
    "    # by a factor proportional to their 2-D distance from the BMU\n",
    "    for x in range(net.shape[0]):\n",
    "        for y in range(net.shape[1]):\n",
    "            w = net[x, y, :].reshape(m, 1)\n",
    "            \n",
    "            #print(\"net\",net)\n",
    "            #print(\"wwww:\",w)\n",
    "            # get the 2-D distance (again, not the actual Euclidean distance)\n",
    "            w_dist = np.sum((np.array([x, y]) - bmu_idx) ** 2)\n",
    "            # if the distance is within the current neighbourhood radius\n",
    "            if w_dist <= r**2:\n",
    "                # calculate the degree of influence (based on the 2-D distance)\n",
    "                influence = calculate_influence(w_dist, r)\n",
    "                # now update the neuron's weight using the formula:\n",
    "                # new w = old w + (learning rate * influence * delta)\n",
    "                # where delta = input vector (t) - old w\n",
    "                new_w = w + (l * influence * (t - w))\n",
    "                # commit the new weight\n",
    "                net[x, y, :] = new_w.reshape(1, 21)\n",
    "                "
   ]
  },
  {
   "cell_type": "code",
   "execution_count": 11,
   "metadata": {},
   "outputs": [],
   "source": [
    "material_nams=\\\n",
    "[\"Adhesive\",\"Brick\",\"Cardboard\",\"Ceramic\",\"Cloth\",\"Concrete\",\"Cotton\",\"Diamond\",\"Glass\",\"Leather\",\"Marble\",\"Metal\",\"Paper\",\"Plastic\",\"Porcelain\",\"Rubber\",\"Stone\",\"Styrofoam\",\"Wax\",\"Wood\",\"Wool\"]"
   ]
  },
  {
   "cell_type": "code",
   "execution_count": 12,
   "metadata": {},
   "outputs": [
    {
     "name": "stdout",
     "output_type": "stream",
     "text": [
      "m10: [0.84657294 0.2503347  0.39652795 0.75102028 0.28365945 0.8332148\n",
      " 0.66737681 0.50883181 0.718724   0.25631688 0.40886709 0.67933864\n",
      " 0.5996794  0.71442911 0.23668673 0.63104267 0.53073233 0.36095159\n",
      " 0.18655456 0.10033463 0.75235403]\n",
      "m10: [0.28606374 0.2323091  0.27678632 0.64996323 0.59704885 0.31789276\n",
      " 0.15755944 0.39395496 0.21833479 0.56455969 0.31866696 0.19119011\n",
      " 0.71205064 0.20452826 0.30882738 0.80555202 0.47532363 0.35423881\n",
      " 0.3127561  0.68787108 0.39935084]\n",
      "m10: [0.37612092 0.39503244 0.38773841 0.75051843 0.49222657 0.71651751\n",
      " 0.44910524 0.37875913 0.15430432 0.44387779 0.23130657 0.26273842\n",
      " 0.22895571 0.5148364  0.57832009 0.38204493 0.56073954 0.28573422\n",
      " 0.50902918 0.68467445 0.71895229]\n",
      "m10: [0.32613953 0.48733335 0.63634333 0.22488227 0.47031792 0.63168609\n",
      " 0.25245408 0.73592513 0.4465212  0.69617022 0.20560153 0.07276251\n",
      " 0.26924951 0.60643064 0.64971094 0.56372588 0.63509517 0.0937369\n",
      " 0.64155169 0.67764715 0.67275382]\n",
      "m10: [0.4283123  0.45553717 0.08742118 0.54226987 0.67396309 0.81508717\n",
      " 0.93285233 0.14491537 0.75219158 0.10750905 0.38195294 0.82455794\n",
      " 0.56342425 0.08746549 0.07064455 0.78484542 0.51180522 0.7717147\n",
      " 0.63537627 0.34272359 0.56552855]\n"
     ]
    }
   ],
   "source": [
    "for i, m in enumerate(net):\n",
    "    #print(m[1])\n",
    "    \n",
    "    print(\"m10:\",m[1])\n",
    "    #plt.text(m[1], material_nams[i], ha='center', va='center',\n",
    "    #     bbox=dict(facecolor='white', alpha=1, lw=0))\n",
    "\n",
    "\n"
   ]
  },
  {
   "cell_type": "code",
   "execution_count": 13,
   "metadata": {},
   "outputs": [],
   "source": [
    "def find_classification(t, net, m):\n",
    "  \n",
    "    bmu_idx = np.array([0, 0])\n",
    "    # set the initial minimum distance to a huge number\n",
    "    min_dist = np.iinfo(np.int).max    \n",
    "    # calculate the high-dimensional distance between each neuron and the input\n",
    "    for x in range(net.shape[0]):\n",
    "        for y in range(net.shape[1]):\n",
    "            w = net[x, y, :].reshape(m, 1)\n",
    "            # don't bother with actual Euclidean distance, to avoid expensive sqrt operation\n",
    "            sq_dist = np.sum((w - t) ** 2)\n",
    "            if sq_dist < min_dist:\n",
    "                min_dist = sq_dist\n",
    "                bmu_idx = np.array([x, y])\n",
    "    # get vector corresponding to bmu_idx\n",
    "    bmu = net[bmu_idx[0], bmu_idx[1], :].reshape(m, 1)\n",
    "    # return the (bmu, bmu_idx) tuple\n",
    "    return (bmu, bmu_idx)"
   ]
  },
  {
   "cell_type": "code",
   "execution_count": 14,
   "metadata": {},
   "outputs": [
    {
     "ename": "TypeError",
     "evalue": "only integer scalar arrays can be converted to a scalar index",
     "output_type": "error",
     "traceback": [
      "\u001b[0;31m--------------------------------------\u001b[0m",
      "\u001b[0;31mTypeError\u001b[0mTraceback (most recent call last)",
      "\u001b[0;32m<ipython-input-14-95f41d9d8e7d>\u001b[0m in \u001b[0;36m<module>\u001b[0;34m\u001b[0m\n\u001b[1;32m      3\u001b[0m \u001b[0;34m\u001b[0m\u001b[0m\n\u001b[1;32m      4\u001b[0m     \u001b[0;31m# select a training example at random\u001b[0m\u001b[0;34m\u001b[0m\u001b[0;34m\u001b[0m\u001b[0;34m\u001b[0m\u001b[0m\n\u001b[0;32m----> 5\u001b[0;31m     \u001b[0mt\u001b[0m \u001b[0;34m=\u001b[0m \u001b[0mdata\u001b[0m\u001b[0;34m[\u001b[0m\u001b[0;34m:\u001b[0m\u001b[0;34m,\u001b[0m \u001b[0mnp\u001b[0m\u001b[0;34m.\u001b[0m\u001b[0mrandom\u001b[0m\u001b[0;34m.\u001b[0m\u001b[0mrandint\u001b[0m\u001b[0;34m(\u001b[0m\u001b[0;36m0\u001b[0m\u001b[0;34m,\u001b[0m \u001b[0mn\u001b[0m\u001b[0;34m)\u001b[0m\u001b[0;34m]\u001b[0m\u001b[0;34m.\u001b[0m\u001b[0mreshape\u001b[0m\u001b[0;34m(\u001b[0m\u001b[0mnp\u001b[0m\u001b[0;34m.\u001b[0m\u001b[0marray\u001b[0m\u001b[0;34m(\u001b[0m\u001b[0;34m[\u001b[0m\u001b[0mm\u001b[0m\u001b[0;34m,\u001b[0m \u001b[0;36m1\u001b[0m\u001b[0;34m]\u001b[0m\u001b[0;34m)\u001b[0m\u001b[0;34m)\u001b[0m\u001b[0;34m\u001b[0m\u001b[0;34m\u001b[0m\u001b[0m\n\u001b[0m\u001b[1;32m      6\u001b[0m     \u001b[0;31m#print(\"first t value:\", t);\u001b[0m\u001b[0;34m\u001b[0m\u001b[0;34m\u001b[0m\u001b[0;34m\u001b[0m\u001b[0m\n\u001b[1;32m      7\u001b[0m \u001b[0;34m\u001b[0m\u001b[0m\n",
      "\u001b[0;31mTypeError\u001b[0m: only integer scalar arrays can be converted to a scalar index"
     ]
    }
   ],
   "source": []
  },
  {
   "cell_type": "code",
   "execution_count": 15,
   "metadata": {},
   "outputs": [
    {
     "ename": "TypeError",
     "evalue": "only integer scalar arrays can be converted to a scalar index",
     "output_type": "error",
     "traceback": [
      "\u001b[0;31m--------------------------------------\u001b[0m",
      "\u001b[0;31mTypeError\u001b[0mTraceback (most recent call last)",
      "\u001b[0;32m<ipython-input-15-2c12b3877ba1>\u001b[0m in \u001b[0;36m<module>\u001b[0;34m\u001b[0m\n\u001b[1;32m      2\u001b[0m     \u001b[0;31m#print('Iteration %d' % i)\u001b[0m\u001b[0;34m\u001b[0m\u001b[0;34m\u001b[0m\u001b[0;34m\u001b[0m\u001b[0m\n\u001b[1;32m      3\u001b[0m     \u001b[0;31m# select a training example at random\u001b[0m\u001b[0;34m\u001b[0m\u001b[0;34m\u001b[0m\u001b[0;34m\u001b[0m\u001b[0m\n\u001b[0;32m----> 4\u001b[0;31m     \u001b[0mt\u001b[0m \u001b[0;34m=\u001b[0m \u001b[0mdata\u001b[0m\u001b[0;34m[\u001b[0m\u001b[0;34m:\u001b[0m\u001b[0;34m,\u001b[0m \u001b[0mi\u001b[0m\u001b[0;34m]\u001b[0m\u001b[0;34m.\u001b[0m\u001b[0mreshape\u001b[0m\u001b[0;34m(\u001b[0m\u001b[0mnp\u001b[0m\u001b[0;34m.\u001b[0m\u001b[0marray\u001b[0m\u001b[0;34m(\u001b[0m\u001b[0;34m[\u001b[0m\u001b[0mm\u001b[0m\u001b[0;34m,\u001b[0m \u001b[0;36m1\u001b[0m\u001b[0;34m]\u001b[0m\u001b[0;34m)\u001b[0m\u001b[0;34m)\u001b[0m\u001b[0;34m\u001b[0m\u001b[0;34m\u001b[0m\u001b[0m\n\u001b[0m\u001b[1;32m      5\u001b[0m     \u001b[0;31m#print(\"first t value:\", t);\u001b[0m\u001b[0;34m\u001b[0m\u001b[0;34m\u001b[0m\u001b[0;34m\u001b[0m\u001b[0m\n\u001b[1;32m      6\u001b[0m     \u001b[0;31m#print(t)\u001b[0m\u001b[0;34m\u001b[0m\u001b[0;34m\u001b[0m\u001b[0;34m\u001b[0m\u001b[0m\n",
      "\u001b[0;31mTypeError\u001b[0m: only integer scalar arrays can be converted to a scalar index"
     ]
    }
   ],
   "source": [
    "for i in range(raw_data.shape[0]):\n",
    "    #print('Iteration %d' % i)\n",
    "    # select a training example at random\n",
    "    t = data[:, i].reshape(np.array([m, 1]))\n",
    "    #print(\"first t value:\", t);\n",
    "    #print(t)\n",
    "    # find its Best Matching Unit\n",
    "    bmu, bmu_idx = find_classification(t, net, m)\n",
    "    print(\"bmu_index: \",bmu_idx)\n",
    "    \n",
    "   "
   ]
  },
  {
   "cell_type": "code",
   "execution_count": 16,
   "metadata": {},
   "outputs": [
    {
     "ename": "SyntaxError",
     "evalue": "invalid syntax (<ipython-input-16-a0061baa1032>, line 1)",
     "output_type": "error",
     "traceback": [
      "\u001b[0;36m  File \u001b[0;32m\"<ipython-input-16-a0061baa1032>\"\u001b[0;36m, line \u001b[0;32m1\u001b[0m\n\u001b[0;31m    bmu_index:  [1 2]\u001b[0m\n\u001b[0m                   ^\u001b[0m\n\u001b[0;31mSyntaxError\u001b[0m\u001b[0;31m:\u001b[0m invalid syntax\n"
     ]
    }
   ],
   "source": [
    "bmu_index:  [1 2]\n",
    "bmu_index:  [2 3]\n",
    "bmu_index:  [2 2]\n",
    "bmu_index:  [1 2]\n",
    "bmu_index:  [1 1]\n",
    "bmu_index:  [2 3]\n",
    "bmu_index:  [1 1]\n",
    "bmu_index:  [2 3]\n",
    "bmu_index:  [2 3]\n",
    "bmu_index:  [1 1]\n",
    "bmu_index:  [1 2]\n",
    "bmu_index:  [2 3]\n",
    "bmu_index:  [2 2]\n",
    "bmu_index:  [3 4]\n",
    "bmu_index:  [1 2]\n",
    "bmu_index:  [1 1]\n",
    "bmu_index:  [2 3]\n",
    "bmu_index:  [1 1]\n",
    "bmu_index:  [2 2]\n",
    "bmu_index:  [2 4]\n",
    "bmu_index:  [1 1]"
   ]
  },
  {
   "cell_type": "code",
   "execution_count": null,
   "metadata": {},
   "outputs": [],
   "source": []
  }
 ],
 "metadata": {
  "kernelspec": {
   "display_name": "Python 3",
   "language": "python",
   "name": "python3"
  },
  "language_info": {
   "codemirror_mode": {
    "name": "ipython",
    "version": 3
   },
   "file_extension": ".py",
   "mimetype": "text/x-python",
   "name": "python",
   "nbconvert_exporter": "python",
   "pygments_lexer": "ipython3",
   "version": "3.7.1"
  }
 },
 "nbformat": 4,
 "nbformat_minor": 2
}
